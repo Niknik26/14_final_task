{
  "nbformat": 4,
  "nbformat_minor": 0,
  "metadata": {
    "colab": {
      "provenance": [],
      "authorship_tag": "ABX9TyN1JZiF24tq0cypJZ77fGm7",
      "include_colab_link": true
    },
    "kernelspec": {
      "name": "python3",
      "display_name": "Python 3"
    },
    "language_info": {
      "name": "python"
    }
  },
  "cells": [
    {
      "cell_type": "markdown",
      "metadata": {
        "id": "view-in-github",
        "colab_type": "text"
      },
      "source": [
        "<a href=\"https://colab.research.google.com/github/Niknik26/14_final_task/blob/main/14_11_Final_task.ipynb\" target=\"_parent\"><img src=\"https://colab.research.google.com/assets/colab-badge.svg\" alt=\"Open In Colab\"/></a>"
      ]
    },
    {
      "cell_type": "code",
      "source": [
        "from pyspark.sql.types import *\n",
        "from pyspark.sql import SparkSession\n",
        "from pyspark.sql.functions import col, to_date, mean, max, avg, month, year, count, sum\n",
        "\n",
        "# Создание SparkSession\n",
        "spark = SparkSession.builder.appName(\"Read weather\").getOrCreate()\n",
        "\n",
        "# Чтение CSV-файла\n",
        "df = spark.read.csv(\"/content/web_server_logs.csv\", header=True, inferSchema=True)\n",
        "#df.show()\n",
        "\n",
        "# 1. Сгруппируйте данные по IP и посчитайте количество запросов для каждого IP, выводим 10 самых активных IP.\n",
        "grouped_ip = df.groupBy(\"ip\").agg(count(col(\"response_code\")).alias(\"request_count\")).orderBy(col(\"request_count\").desc()).limit(10)\n",
        "print(\"Top 10 active IP addresses:\")\n",
        "grouped_ip.show()\n",
        "\n",
        "# 2. Сгруппируйте данные по HTTP-методу и посчитайте количество запросов для каждого метода\n",
        "grouped_method = df.groupBy(\"method\").agg(count(col(\"response_code\")).alias(\"method_count\"))\n",
        "print(\"Request count by HTTP method:\")\n",
        "grouped_method.show()\n",
        "\n",
        "# 3. Профильтруйте и посчитайте количество запросов с кодом ответа 404.\n",
        "count404 = df.filter(df.response_code == 404).count()\n",
        "print(f\"Number of 404 response codes: {count404}\")\n",
        "\n",
        "# 4. Сгруппируйте данные по дате и просуммируйте размер ответов, сортируйте по дате.\n",
        "\n",
        "# Преобразование столбца timestamp в формат даты\n",
        "date_with = df.withColumn(\"date\", to_date(col(\"timestamp\"), \"yyyy-MM-dd\"))\n",
        "\n",
        "# Суммируем по дате\n",
        "filter404 = date_with.groupBy(\"date\").agg(sum(col(\"response_size\")).alias(\"total_response_size\")).orderBy(col(\"date\").asc())\n",
        "print(\"Total response size by day:\")\n",
        "filter404.show()\n"
      ],
      "metadata": {
        "colab": {
          "base_uri": "https://localhost:8080/"
        },
        "id": "2AqPf9AqRBrM",
        "outputId": "9fe0fd8d-d3d5-41e0-d5bc-8678e63fc03b"
      },
      "execution_count": 6,
      "outputs": [
        {
          "output_type": "stream",
          "name": "stdout",
          "text": [
            "Top 10 active IP addresses:\n",
            "+--------------+-------------+\n",
            "|            ip|request_count|\n",
            "+--------------+-------------+\n",
            "|  12.202.59.29|            2|\n",
            "|   57.60.34.63|            2|\n",
            "| 178.175.35.67|            2|\n",
            "|   200.226.2.8|            1|\n",
            "|77.109.193.133|            1|\n",
            "| 101.213.67.53|            1|\n",
            "|141.102.15.115|            1|\n",
            "|80.211.210.198|            1|\n",
            "|107.91.132.207|            1|\n",
            "|  105.213.0.28|            1|\n",
            "+--------------+-------------+\n",
            "\n",
            "Request count by HTTP method:\n",
            "+------+------------+\n",
            "|method|method_count|\n",
            "+------+------------+\n",
            "|  POST|       25221|\n",
            "|DELETE|       24787|\n",
            "|   PUT|       24945|\n",
            "|   GET|       25047|\n",
            "+------+------------+\n",
            "\n",
            "Number of 404 response codes: 25142\n",
            "Total response size by day:\n",
            "+----------+-------------------+\n",
            "|      date|total_response_size|\n",
            "+----------+-------------------+\n",
            "|2024-01-01|            2088095|\n",
            "|2024-01-02|            2134155|\n",
            "|2024-01-03|            2401391|\n",
            "|2024-01-04|            2403109|\n",
            "|2024-01-05|            2183526|\n",
            "|2024-01-06|            2315560|\n",
            "|2024-01-07|            2196462|\n",
            "|2024-01-08|            1923493|\n",
            "|2024-01-09|            2367293|\n",
            "|2024-01-10|            2298351|\n",
            "|2024-01-11|            2105431|\n",
            "|2024-01-12|            2308056|\n",
            "|2024-01-13|            2199594|\n",
            "|2024-01-14|            2211372|\n",
            "|2024-01-15|            2191817|\n",
            "|2024-01-16|            1943642|\n",
            "|2024-01-17|            2366369|\n",
            "|2024-01-18|            2440941|\n",
            "|2024-01-19|            2342173|\n",
            "|2024-01-20|            2238958|\n",
            "+----------+-------------------+\n",
            "only showing top 20 rows\n",
            "\n"
          ]
        }
      ]
    }
  ]
}